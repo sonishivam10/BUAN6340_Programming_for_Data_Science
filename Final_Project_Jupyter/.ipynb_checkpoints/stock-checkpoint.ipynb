{
 "cells": [
  {
   "cell_type": "code",
   "execution_count": null,
   "metadata": {},
   "outputs": [],
   "source": [
    "import pandas as pd\n",
    "import numpy as np\n",
    "import requests\n",
    "from fbprophet import Prophet\n",
    "from fbprophet.diagnostics import cross_validation\n",
    "from finance import getPrices, getSharesOutstanding\n",
    "from plotly.offline import plot\n",
    "import plotly.graph_objs as go\n",
    "import warnings\n",
    "warnings.simplefilter(action='ignore', category=FutureWarning)"
   ]
  },
  {
   "cell_type": "code",
   "execution_count": null,
   "metadata": {},
   "outputs": [],
   "source": [
    "class stock(object):\n",
    "    def __init__(self, c, p):\n",
    "        params = {}\n",
    "        params['q'] = c\n",
    "        params['i'] = \"86400\"\n",
    "        params['x'] = \"NASDAQ\"\n",
    "        params['p'] = p\n",
    "        df = getPrices(params)\n",
    "        df = df.reset_index().rename(columns={\"index\": \"Date\"})\n",
    "        df['Date'] = pd.to_datetime(df['Date'], unit='D')\n",
    "        self.df = df.copy()\n",
    "        self.max_date = max(df['Date'])\n",
    "        self.min_date = min(df['Date'])\n",
    "        self.previous_close = df.loc[df['Date'] == max(df['Date'])][\n",
    "            'Close'].values[0]\n",
    "        self.forecast = pd.DataFrame()\n",
    "        self.avg_mean_error = 0\n",
    "        self.shares_outstanding = getSharesOutstanding(c)\n",
    "\n",
    "    def getHistory(self):\n",
    "        return self.df\n",
    "\n",
    "    def prophetModel(self):\n",
    "        df = self.df[['Date', 'Close']]\n",
    "        df = df.rename(index=str, columns={\"Date\": \"ds\", \"Close\": \"y\"})\n",
    "        model = Prophet(\n",
    "            daily_seasonality=False,\n",
    "            weekly_seasonality=False,\n",
    "            yearly_seasonality=False,\n",
    "            changepoint_prior_scale=0.05)\n",
    "        model.add_seasonality(name='monthly', period=30.5, fourier_order=5)\n",
    "        split_date = self.max_date - pd.DateOffset(days=45)\n",
    "        train = df[df['ds'] <= split_date]\n",
    "        test = df[df['ds'] >= split_date]\n",
    "        model.fit(train)\n",
    "        future = model.make_future_dataframe(periods=30, include_history=True)\n",
    "        df_cv = cross_validation(model, horizon='60 days')\n",
    "        cv_avg_mean_error = np.mean(abs(df_cv['y'] - df_cv['yhat']))\n",
    "        self.cv_avg_mean_error = cv_avg_mean_error\n",
    "        forecasts = model.predict(future)\n",
    "        forecasts = forecasts[['ds', 'yhat', 'yhat_lower', 'yhat_upper']]\n",
    "        self.train = train.copy()\n",
    "        self.test = test.copy()\n",
    "        self.forecasts = forecasts.copy()\n",
    "        # model.plot(forecast)\n",
    "        evaluation = pd.merge(test, forecasts, on='ds', how='inner')\n",
    "        avg_mean_error = np.mean(abs(evaluation['y'] - evaluation['yhat']))\n",
    "        self.avg_mean_error = avg_mean_error\n",
    "\n",
    "    def getTrainingData(self):\n",
    "        return self.train\n",
    "\n",
    "    def getForecasts(self):\n",
    "        return self.forecasts\n",
    "\n",
    "    def getTestData(self):\n",
    "        return self.test\n"
   ]
  }
 ],
 "metadata": {
  "kernelspec": {
   "display_name": "Python 3",
   "language": "python",
   "name": "python3"
  },
  "language_info": {
   "codemirror_mode": {
    "name": "ipython",
    "version": 3
   },
   "file_extension": ".py",
   "mimetype": "text/x-python",
   "name": "python",
   "nbconvert_exporter": "python",
   "pygments_lexer": "ipython3",
   "version": "3.6.4"
  }
 },
 "nbformat": 4,
 "nbformat_minor": 2
}
