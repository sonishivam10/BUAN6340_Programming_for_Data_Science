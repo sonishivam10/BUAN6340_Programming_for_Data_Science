{
 "cells": [
  {
   "cell_type": "code",
   "execution_count": null,
   "metadata": {},
   "outputs": [],
   "source": [
    "import requests\n",
    "import pandas as pd\n",
    "from datetime import datetime\n",
    "from bs4 import BeautifulSoup"
   ]
  },
  {
   "cell_type": "code",
   "execution_count": null,
   "metadata": {},
   "outputs": [],
   "source": [
    "def getPrices(query):\n",
    "    r = requests.get(\n",
    "        \"https://finance.google.com/finance/getprices\", params=query)\n",
    "    lines = r.text.splitlines()\n",
    "    data = []\n",
    "    index = []\n",
    "    basetime = 0\n",
    "    for price in lines:\n",
    "        cols = price.split(\",\")\n",
    "        if cols[0][0] == 'a':\n",
    "            basetime = int(cols[0][1:])\n",
    "            index.append(datetime.fromtimestamp(basetime))\n",
    "            data.append([\n",
    "                float(cols[4]),\n",
    "                float(cols[2]),\n",
    "                float(cols[3]),\n",
    "                float(cols[1]),\n",
    "                int(cols[5])\n",
    "            ])\n",
    "        elif cols[0][0].isdigit():\n",
    "            date = basetime + (int(cols[0]) * int(query['i']))\n",
    "            index.append(datetime.fromtimestamp(date))\n",
    "            data.append([\n",
    "                float(cols[4]),\n",
    "                float(cols[2]),\n",
    "                float(cols[3]),\n",
    "                float(cols[1]),\n",
    "                int(cols[5])\n",
    "            ])\n",
    "\n",
    "    return pd.DataFrame(\n",
    "        data, index=index, columns=['Open', 'High', 'Low', 'Close', 'Volume'])\n",
    "\n",
    "\n",
    "def getSharesOutstanding(company):\n",
    "    url = \"https://finance.yahoo.com/quote/\" + company + \"/key-statistics/\"\n",
    "    r = requests.get(url)\n",
    "    soup = BeautifulSoup(r.content, \"html.parser\")\n",
    "    for rows in soup.find_all(\"td\"):\n",
    "        for span in rows.find_all(\"span\"):\n",
    "            if span.text == \"Shares Outstanding\":\n",
    "                numbers = float(rows.find_next_sibling(\"td\").text[:-1])\n",
    "                units = rows.find_next_sibling(\"td\").text[-1]\n",
    "                if units == \"M\":\n",
    "                    shares_outstanding = numbers * 10e6\n",
    "                elif units == \"B\":\n",
    "                    shares_outstanding = numbers * 10e9\n",
    "                else:\n",
    "                    shares_outstanding = 0\n",
    "    return shares_outstanding\n"
   ]
  }
 ],
 "metadata": {
  "kernelspec": {
   "display_name": "Python 3",
   "language": "python",
   "name": "python3"
  },
  "language_info": {
   "codemirror_mode": {
    "name": "ipython",
    "version": 3
   },
   "file_extension": ".py",
   "mimetype": "text/x-python",
   "name": "python",
   "nbconvert_exporter": "python",
   "pygments_lexer": "ipython3",
   "version": "3.6.4"
  }
 },
 "nbformat": 4,
 "nbformat_minor": 2
}
